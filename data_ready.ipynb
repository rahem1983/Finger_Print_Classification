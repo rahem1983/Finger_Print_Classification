{
 "cells": [
  {
   "cell_type": "code",
   "execution_count": 1,
   "metadata": {},
   "outputs": [],
   "source": [
    "import os\n",
    "import shutil"
   ]
  },
  {
   "cell_type": "code",
   "execution_count": 20,
   "metadata": {},
   "outputs": [],
   "source": [
    "source_directory = 'Real_png'\n",
    "destination_directory = 'dataset/train/Right_Index'"
   ]
  },
  {
   "cell_type": "code",
   "execution_count": 21,
   "metadata": {},
   "outputs": [
    {
     "name": "stdout",
     "output_type": "stream",
     "text": [
      "Images with 'Left_index' in the name have been copied to the destination directory.\n"
     ]
    }
   ],
   "source": [
    "# List all files in the source directory\n",
    "for filename in os.listdir(source_directory):\n",
    "    source_filepath = os.path.join(source_directory, filename)\n",
    "\n",
    "    # Check if the filename contains the word \"index\"\n",
    "    if \"Right_index\" in filename:\n",
    "        destination_filepath = os.path.join(destination_directory, filename)\n",
    "\n",
    "        # Copy the file to the destination directory\n",
    "        shutil.copyfile(source_filepath, destination_filepath)\n",
    "\n",
    "print(\"Images with 'Left_index' in the name have been copied to the destination directory.\")"
   ]
  },
  {
   "cell_type": "code",
   "execution_count": null,
   "metadata": {},
   "outputs": [],
   "source": []
  }
 ],
 "metadata": {
  "kernelspec": {
   "display_name": "base",
   "language": "python",
   "name": "python3"
  },
  "language_info": {
   "codemirror_mode": {
    "name": "ipython",
    "version": 3
   },
   "file_extension": ".py",
   "mimetype": "text/x-python",
   "name": "python",
   "nbconvert_exporter": "python",
   "pygments_lexer": "ipython3",
   "version": "3.9.13"
  },
  "orig_nbformat": 4
 },
 "nbformat": 4,
 "nbformat_minor": 2
}
